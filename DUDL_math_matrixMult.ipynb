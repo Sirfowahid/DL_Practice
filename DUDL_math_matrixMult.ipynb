{
 "cells": [
  {
   "cell_type": "markdown",
   "metadata": {
    "id": "bhWV8oes-wKR"
   },
   "source": [
    "# COURSE: A deep understanding of deep learning\n",
    "## SECTION: Math prerequisites\n",
    "### LECTURE: Matrix multiplication\n",
    "#### TEACHER: Mike X Cohen, sincxpress.com\n",
    "##### COURSE URL: udemy.com/course/dudl/?couponCode=202112"
   ]
  },
  {
   "cell_type": "code",
   "execution_count": 1,
   "metadata": {
    "id": "vRQNyNtlDoOb"
   },
   "outputs": [],
   "source": [
    "# import libraries\n",
    "import numpy as np\n",
    "import torch"
   ]
  },
  {
   "cell_type": "markdown",
   "metadata": {
    "id": "K0BSQG0fDpt_"
   },
   "source": [
    "# Using numpy"
   ]
  },
  {
   "cell_type": "code",
   "execution_count": 2,
   "metadata": {
    "id": "T4_veEYqDpx9"
   },
   "outputs": [
    {
     "name": "stdout",
     "output_type": "stream",
     "text": [
      "[[ 0.11 -3.52 -2.47 -0.76 -2.28]\n",
      " [ 2.07  0.91  2.76  0.81  2.21]\n",
      " [ 0.86  1.41  0.02 -0.65 -0.68]]\n",
      " \n",
      "[[-0.57  3.32  0.37  2.31]\n",
      " [ 0.47 -5.44 -1.7   0.27]\n",
      " [-0.39 -2.   -1.    0.74]\n",
      " [-1.1   4.09  0.59  1.5 ]\n",
      " [-0.13  0.79  0.05  0.74]\n",
      " [-0.06 -0.25  0.19 -1.3 ]\n",
      " [ 0.09 -1.05  0.48 -3.52]]\n"
     ]
    }
   ],
   "source": [
    "# create some random matrices\n",
    "A = np.random.randn(3,4)\n",
    "B = np.random.randn(4,5)\n",
    "C = np.random.randn(3,7)\n",
    "\n",
    "# try some multiplications...\n",
    "print(np.round( A@B   ,2)), print(' ')\n",
    "# print(np.round( A@C   ,2)), print(' ')\n",
    "# print(np.round( B@C   ,2)), print(' ')\n",
    "print(np.round( C.T@A ,2))"
   ]
  },
  {
   "cell_type": "markdown",
   "metadata": {
    "id": "89qsNy19Dp1U"
   },
   "source": [
    "# Using pytorch"
   ]
  },
  {
   "cell_type": "code",
   "execution_count": 3,
   "metadata": {
    "id": "4Yrdf4WOEjxz"
   },
   "outputs": [
    {
     "name": "stdout",
     "output_type": "stream",
     "text": [
      "tensor([[-3.9600,  0.8600, -4.6500,  2.7200,  0.0300,  2.0500, -5.7200],\n",
      "        [-5.7900,  1.9100, -5.0000,  4.1800,  0.0700, -1.6500, -0.3500],\n",
      "        [-1.4800, -0.2400, -1.9100,  0.3600, -0.3700,  0.8700, -2.2500]],\n",
      "       dtype=torch.float64)\n",
      " \n",
      "tensor([[-3.9600,  0.8600, -4.6500,  2.7200,  0.0300,  2.0500, -5.7200],\n",
      "        [-5.7900,  1.9100, -5.0000,  4.1800,  0.0700, -1.6500, -0.3500],\n",
      "        [-1.4800, -0.2400, -1.9100,  0.3600, -0.3700,  0.8700, -2.2500]])\n"
     ]
    }
   ],
   "source": [
    "# create some random matrices\n",
    "A  = torch.randn(3,4)\n",
    "B  = torch.randn(4,5)\n",
    "C1 = np.random.randn(4,7)\n",
    "C2 = torch.tensor( C1,dtype=torch.float )\n",
    "\n",
    "# try some multiplications...\n",
    "# print(np.round( A@B   ,2)), print(' ')\n",
    "# print(np.round( A@B.T ,2)), print(' ')\n",
    "print(np.round( A@C1  ,2)), print(' ')\n",
    "print(np.round( A@C2  ,2))"
   ]
  }
 ],
 "metadata": {
  "colab": {
   "authorship_tag": "ABX9TyN3xNttY0efRLiZkxgkBGe2",
   "collapsed_sections": [],
   "name": "DUDL_math_matrixMult.ipynb",
   "provenance": []
  },
  "kernelspec": {
   "display_name": "Python 3 (ipykernel)",
   "language": "python",
   "name": "python3"
  },
  "language_info": {
   "codemirror_mode": {
    "name": "ipython",
    "version": 3
   },
   "file_extension": ".py",
   "mimetype": "text/x-python",
   "name": "python",
   "nbconvert_exporter": "python",
   "pygments_lexer": "ipython3",
   "version": "3.9.12"
  }
 },
 "nbformat": 4,
 "nbformat_minor": 1
}
