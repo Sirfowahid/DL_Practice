{
 "cells": [
  {
   "cell_type": "code",
   "execution_count": 1,
   "id": "5c0b5733",
   "metadata": {},
   "outputs": [],
   "source": [
    "import torch\n",
    "import torch.nn as nn\n",
    "import numpy as np\n",
    "import matplotlib.pyplot as plt\n"
   ]
  },
  {
   "cell_type": "code",
   "execution_count": 2,
   "id": "abded0c7",
   "metadata": {},
   "outputs": [],
   "source": [
    "x = np.linspace(-2,2,2001)\n",
    "def fx(x):\n",
    "    return 3*x**2-3*x+4\n",
    "def deriv(x):\n",
    "    return 6*x-3"
   ]
  },
  {
   "cell_type": "code",
   "execution_count": 3,
   "id": "03688eb4",
   "metadata": {},
   "outputs": [
    {
     "name": "stderr",
     "output_type": "stream",
     "text": [
      "C:\\Users\\MEHEDI~1\\AppData\\Local\\Temp/ipykernel_11576/966102408.py:12: DeprecationWarning: setting an array element with a sequence. This was supported in some cases where the elements are arrays with a single element. For example `np.array([1, np.array([2])], dtype=int)`. In the future this will raise the same ValueError as `np.array([1, [2]], dtype=int)`.\n",
      "  modelparamsFixed[i,:] = localmin,grad,lr\n"
     ]
    }
   ],
   "source": [
    "localmin = np.random.choice(x,1)\n",
    "initval = localmin[:]\n",
    "\n",
    "learning_rate = .01\n",
    "training_epochs = 50\n",
    "\n",
    "modelparamsFixed = np.zeros((training_epochs,3))\n",
    "for i in range(training_epochs):\n",
    "    grad = deriv(localmin)\n",
    "    lr = learning_rate\n",
    "    localmin = localmin - lr*grad\n",
    "    modelparamsFixed[i,:] = localmin,grad,lr"
   ]
  },
  {
   "cell_type": "code",
   "execution_count": 4,
   "id": "fd83aca0",
   "metadata": {},
   "outputs": [
    {
     "name": "stderr",
     "output_type": "stream",
     "text": [
      "C:\\Users\\MEHEDI~1\\AppData\\Local\\Temp/ipykernel_11576/3529077537.py:10: DeprecationWarning: setting an array element with a sequence. This was supported in some cases where the elements are arrays with a single element. For example `np.array([1, np.array([2])], dtype=int)`. In the future this will raise the same ValueError as `np.array([1, [2]], dtype=int)`.\n",
      "  modelparamsGrad[i,:] = localmin,grad,lr\n"
     ]
    }
   ],
   "source": [
    "localmin = np.random.choice(x,1)\n",
    "initval = localmin[:]\n",
    "learning_rate = .01\n",
    "training_epochs = 50\n",
    "modelparamsGrad = np.zeros((training_epochs,3))\n",
    "\n",
    "for i in range(training_epochs):\n",
    "    grad = deriv(localmin)\n",
    "    lr = learning_rate*np.abs(grad)\n",
    "    modelparamsGrad[i,:] = localmin,grad,lr"
   ]
  },
  {
   "cell_type": "code",
   "execution_count": 5,
   "id": "c6e8efcc",
   "metadata": {},
   "outputs": [
    {
     "name": "stderr",
     "output_type": "stream",
     "text": [
      "C:\\Users\\MEHEDI~1\\AppData\\Local\\Temp/ipykernel_11576/2930635720.py:9: DeprecationWarning: setting an array element with a sequence. This was supported in some cases where the elements are arrays with a single element. For example `np.array([1, np.array([2])], dtype=int)`. In the future this will raise the same ValueError as `np.array([1, [2]], dtype=int)`.\n",
      "  modelparamsTime[i,:] = localmin,grad,lr\n"
     ]
    }
   ],
   "source": [
    "\n",
    "\n",
    "learning_rate = .1\n",
    "localmin = initval\n",
    "modelparamsTime = np.zeros((training_epochs,3))\n",
    "\n",
    "for i in range(training_epochs):\n",
    "    grad = deriv(localmin)\n",
    "    lr = learning_rate*(1-(i+1)/training_epochs)\n",
    "    localmin = localmin - lr*grad\n",
    "    modelparamsTime[i,:] = localmin,grad,lr"
   ]
  },
  {
   "cell_type": "code",
   "execution_count": 6,
   "id": "1be45820",
   "metadata": {},
   "outputs": [
    {
     "data": {
      "image/png": "[encoded data removed]",
      "text/plain": [
       "<Figure size 720x216 with 3 Axes>"
      ]
     },
     "metadata": {
      "needs_background": "light"
     },
     "output_type": "display_data"
    }
   ],
   "source": [
    "fig , ax = plt.subplots(1,3,figsize=(10,3))\n",
    "for i in range (3):\n",
    "    ax[i].plot(modelparamsFixed[:,i],'o-',markerfacecolor='w')\n",
    "    ax[i].plot(modelparamsGrad[:,i],'o-',markerfacecolor='w')\n",
    "    ax[i].plot(modelparamsTime[:,i],'o-',markerfacecolor='w')\n",
    "    ax[i].set_xlabel('Iteration')"
   ]
  },
  {
   "cell_type": "code",
   "execution_count": null,
   "id": "ddab0f1a",
   "metadata": {},
   "outputs": [],
   "source": []
  }
 ],
 "metadata": {
  "kernelspec": {
   "display_name": "Python 3 (ipykernel)",
   "language": "python",
   "name": "python3"
  },
  "language_info": {
   "codemirror_mode": {
    "name": "ipython",
    "version": 3
   },
   "file_extension": ".py",
   "mimetype": "text/x-python",
   "name": "python",
   "nbconvert_exporter": "python",
   "pygments_lexer": "ipython3",
   "version": "3.9.12"
  }
 },
 "nbformat": 4,
 "nbformat_minor": 5
}
