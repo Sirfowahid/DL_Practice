{
 "cells": [
  {
   "cell_type": "code",
   "execution_count": 1,
   "id": "599c87d1",
   "metadata": {},
   "outputs": [],
   "source": [
    "import torch\n",
    "import torch.nn as nn\n",
    "import numpy as np\n",
    "import matplotlib.pyplot as plt\n"
   ]
  },
  {
   "cell_type": "code",
   "execution_count": 2,
   "id": "fc643ffc",
   "metadata": {},
   "outputs": [],
   "source": [
    "x = np.linspace(-2,2,2001)\n",
    "def fx(x):\n",
    "    return 3*x**2-3*x+4\n",
    "def deriv(x):\n",
    "    return 6*x-3"
   ]
  },
  {
   "cell_type": "code",
   "execution_count": 3,
   "id": "bc07b74a",
   "metadata": {},
   "outputs": [
    {
     "name": "stderr",
     "output_type": "stream",
     "text": [
      "C:\\Users\\MEHEDI~1\\AppData\\Local\\Temp/ipykernel_11576/966102408.py:12: DeprecationWarning: setting an array element with a sequence. This was supported in some cases where the elements are arrays with a single element. For example `np.array([1, np.array([2])], dtype=int)`. In the future this will raise the same ValueError as `np.array([1, [2]], dtype=int)`.\n",
      "  modelparamsFixed[i,:] = localmin,grad,lr\n"
     ]
    }
   ],
   "source": [
    "localmin = np.random.choice(x,1)\n",
    "initval = localmin[:]\n",
    "\n",
    "learning_rate = .01\n",
    "training_epochs = 50\n",
    "\n",
    "modelparamsFixed = np.zeros((training_epochs,3))\n",
    "for i in range(training_epochs):\n",
    "    grad = deriv(localmin)\n",
    "    lr = learning_rate\n",
    "    localmin = localmin - lr*grad\n",
    "    modelparamsFixed[i,:] = localmin,grad,lr"
   ]
  },
  {
   "cell_type": "code",
   "execution_count": 4,
   "id": "2878cbd1",
   "metadata": {},
   "outputs": [
    {
     "name": "stderr",
     "output_type": "stream",
     "text": [
      "C:\\Users\\MEHEDI~1\\AppData\\Local\\Temp/ipykernel_11576/3529077537.py:10: DeprecationWarning: setting an array element with a sequence. This was supported in some cases where the elements are arrays with a single element. For example `np.array([1, np.array([2])], dtype=int)`. In the future this will raise the same ValueError as `np.array([1, [2]], dtype=int)`.\n",
      "  modelparamsGrad[i,:] = localmin,grad,lr\n"
     ]
    }
   ],
   "source": [
    "localmin = np.random.choice(x,1)\n",
    "initval = localmin[:]\n",
    "learning_rate = .01\n",
    "training_epochs = 50\n",
    "modelparamsGrad = np.zeros((training_epochs,3))\n",
    "\n",
    "for i in range(training_epochs):\n",
    "    grad = deriv(localmin)\n",
    "    lr = learning_rate*np.abs(grad)\n",
    "    modelparamsGrad[i,:] = localmin,grad,lr"
   ]
  },
  {
   "cell_type": "code",
   "execution_count": null,
   "id": "190f819b",
   "metadata": {},
   "outputs": [],
   "source": []
  }
 ],
 "metadata": {
  "kernelspec": {
   "display_name": "Python 3 (ipykernel)",
   "language": "python",
   "name": "python3"
  },
  "language_info": {
   "codemirror_mode": {
    "name": "ipython",
    "version": 3
   },
   "file_extension": ".py",
   "mimetype": "text/x-python",
   "name": "python",
   "nbconvert_exporter": "python",
   "pygments_lexer": "ipython3",
   "version": "3.9.12"
  }
 },
 "nbformat": 4,
 "nbformat_minor": 5
}
